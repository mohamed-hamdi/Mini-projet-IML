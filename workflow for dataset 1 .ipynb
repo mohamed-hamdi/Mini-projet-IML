{
 "cells": [
  {
   "cell_type": "markdown",
   "metadata": {},
   "source": [
    "# ML workflow for  Chronic Kidney Disease"
   ]
  },
  {
   "cell_type": "code",
   "execution_count": 1,
   "metadata": {},
   "outputs": [],
   "source": [
    "# Imports \n",
    "from pipeline_perso import *\n",
    "from sklearn.model_selection import KFold\n",
    "from sklearn.pipeline import Pipeline"
   ]
  },
  {
   "cell_type": "code",
   "execution_count": 2,
   "metadata": {},
   "outputs": [],
   "source": [
    "dtypes = {'pcv':'float64','wc':'float64','rc':'float64'}\n",
    "data = pd.read_csv('kidney_disease.csv',dtype=dtypes,na_values='\\t?')"
   ]
  },
  {
   "cell_type": "code",
   "execution_count": 3,
   "metadata": {},
   "outputs": [],
   "source": [
    "data.reset_index(drop=True,inplace=True)\n",
    "data.drop(['id'],axis=1,inplace=True)"
   ]
  },
  {
   "cell_type": "code",
   "execution_count": 4,
   "metadata": {},
   "outputs": [],
   "source": [
    "TrainTest=TrainTestGenerator(1,test_size=0.3,data=data)\n",
    "for train,test in TrainTest:\n",
    "    X_train = np.array(data.drop(['classification'],axis=1))[train]\n",
    "    X_test  = np.array(data.drop(['classification'],axis=1))[test]\n",
    "    y_train = np.array(data.classification)[train]\n",
    "    y_test  = np.array(data.classification)[test]"
   ]
  },
  {
   "cell_type": "code",
   "execution_count": 5,
   "metadata": {},
   "outputs": [],
   "source": [
    "kf = KFold(n_splits=4, random_state=None, shuffle=True)"
   ]
  },
  {
   "cell_type": "code",
   "execution_count": 6,
   "metadata": {},
   "outputs": [
    {
     "name": "stderr",
     "output_type": "stream",
     "text": [
      "[Parallel(n_jobs=-1)]: Using backend LokyBackend with 4 concurrent workers.\n",
      "[Parallel(n_jobs=-1)]: Done   5 tasks      | elapsed:    3.2s\n",
      "[Parallel(n_jobs=-1)]: Done  10 tasks      | elapsed:    3.9s\n",
      "[Parallel(n_jobs=-1)]: Done  17 tasks      | elapsed:    6.1s\n",
      "[Parallel(n_jobs=-1)]: Done  23 out of  27 | elapsed:   11.5s remaining:    2.0s\n",
      "[Parallel(n_jobs=-1)]: Done  27 out of  27 | elapsed:   16.3s finished\n",
      "[Parallel(n_jobs=-1)]: Using backend LokyBackend with 4 concurrent workers.\n",
      "[Parallel(n_jobs=-1)]: Batch computation too fast (0.1627s.) Setting batch_size=2.\n",
      "[Parallel(n_jobs=-1)]: Done   5 tasks      | elapsed:    0.4s\n",
      "[Parallel(n_jobs=-1)]: Done  12 tasks      | elapsed:    1.5s\n",
      "[Parallel(n_jobs=-1)]: Done  20 out of  27 | elapsed:    3.4s remaining:    1.2s\n",
      "[Parallel(n_jobs=-1)]: Done  27 out of  27 | elapsed:    5.5s finished\n",
      "[Parallel(n_jobs=-1)]: Using backend LokyBackend with 4 concurrent workers.\n",
      "[Parallel(n_jobs=-1)]: Done   5 tasks      | elapsed:    0.6s\n",
      "[Parallel(n_jobs=-1)]: Done  10 tasks      | elapsed:    1.3s\n",
      "[Parallel(n_jobs=-1)]: Done  17 tasks      | elapsed:    3.6s\n",
      "[Parallel(n_jobs=-1)]: Done  23 out of  27 | elapsed:    8.8s remaining:    1.5s\n",
      "[Parallel(n_jobs=-1)]: Done  27 out of  27 | elapsed:   13.7s finished\n",
      "[Parallel(n_jobs=-1)]: Using backend LokyBackend with 4 concurrent workers.\n",
      "[Parallel(n_jobs=-1)]: Done   5 tasks      | elapsed:    0.6s\n",
      "[Parallel(n_jobs=-1)]: Done  10 tasks      | elapsed:    1.3s\n",
      "[Parallel(n_jobs=-1)]: Done  17 tasks      | elapsed:    3.9s\n",
      "[Parallel(n_jobs=-1)]: Done  23 out of  27 | elapsed:   10.1s remaining:    1.8s\n",
      "[Parallel(n_jobs=-1)]: Done  27 out of  27 | elapsed:   15.6s finished\n"
     ]
    },
    {
     "name": "stdout",
     "output_type": "stream",
     "text": [
      "0.975\n",
      "{'depth': 8, 'learning_rate': 0.05, 'iterations': 50}\n"
     ]
    }
   ],
   "source": [
    "from catboost import CatBoostClassifier\n",
    "parameters = {'depth': [6,8,10],'learning_rate' : [0.01, 0.05, 0.1],'iterations'    : [30, 50, 100]}\n",
    "\n",
    "grid_perso = GridSearchHyperParamsCV(model=CatBoostClassifier(silent=True), parameters = parameters, cv_splitter = kf, n_jobs=-1 ,verbose=10)\n",
    "\n",
    "\n",
    "pipe_perso = Pipeline([('imputer' , CustomImputer()),('cat_trans', CategoricalTransformer(strategy='ordinal_encoding')), ('catboost', grid_perso)])\n",
    "\n",
    "\n",
    "pipe_perso.fit(X_train,y_train)\n",
    "\n",
    "\n",
    "print(pipe_perso.score(X_test,y_test))\n",
    "print(pipe_perso['catboost']._best_params)"
   ]
  }
 ],
 "metadata": {
  "kernelspec": {
   "display_name": "Python 3",
   "language": "python",
   "name": "python3"
  },
  "language_info": {
   "codemirror_mode": {
    "name": "ipython",
    "version": 3
   },
   "file_extension": ".py",
   "mimetype": "text/x-python",
   "name": "python",
   "nbconvert_exporter": "python",
   "pygments_lexer": "ipython3",
   "version": "3.8.5"
  },
  "latex_envs": {
   "LaTeX_envs_menu_present": true,
   "autoclose": false,
   "autocomplete": true,
   "bibliofile": "biblio.bib",
   "cite_by": "apalike",
   "current_citInitial": 1,
   "eqLabelWithNumbers": true,
   "eqNumInitial": 1,
   "hotkeys": {
    "equation": "Ctrl-E",
    "itemize": "Ctrl-I"
   },
   "labels_anchors": false,
   "latex_user_defs": false,
   "report_style_numbering": false,
   "user_envs_cfg": false
  }
 },
 "nbformat": 4,
 "nbformat_minor": 2
}
