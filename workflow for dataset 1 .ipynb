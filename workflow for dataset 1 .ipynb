{
 "cells": [
  {
   "cell_type": "code",
   "execution_count": 1,
   "metadata": {},
   "outputs": [],
   "source": [
    "import pipeline_perso "
   ]
  },
  {
   "cell_type": "code",
   "execution_count": 59,
   "metadata": {},
   "outputs": [],
   "source": [
    "import numpy as np"
   ]
  },
  {
   "cell_type": "code",
   "execution_count": 60,
   "metadata": {},
   "outputs": [],
   "source": [
    "a=np.array([5,2,6,9,8,8,9])"
   ]
  },
  {
   "cell_type": "code",
   "execution_count": 65,
   "metadata": {},
   "outputs": [],
   "source": [
    "a[np.where(a==8)]=3"
   ]
  },
  {
   "cell_type": "code",
   "execution_count": 66,
   "metadata": {},
   "outputs": [
    {
     "data": {
      "text/plain": [
       "array([5, 6, 6, 9, 3, 3, 9])"
      ]
     },
     "execution_count": 66,
     "metadata": {},
     "output_type": "execute_result"
    }
   ],
   "source": [
    "a"
   ]
  },
  {
   "cell_type": "code",
   "execution_count": 67,
   "metadata": {},
   "outputs": [
    {
     "name": "stdout",
     "output_type": "stream",
     "text": [
      "/home/mohamed/Desktop/Projet_IML/Mini-projet-IML\r\n"
     ]
    }
   ],
   "source": [
    "!pwd"
   ]
  },
  {
   "cell_type": "code",
   "execution_count": 166,
   "metadata": {},
   "outputs": [],
   "source": [
    "import pandas as pd\n",
    "d=pd.read_csv('DigiDB_digimonlist.csv')"
   ]
  },
  {
   "cell_type": "code",
   "execution_count": 179,
   "metadata": {},
   "outputs": [],
   "source": [
    "a=d[6:9]"
   ]
  },
  {
   "cell_type": "code",
   "execution_count": 180,
   "metadata": {},
   "outputs": [
    {
     "data": {
      "text/html": [
       "<div>\n",
       "<style scoped>\n",
       "    .dataframe tbody tr th:only-of-type {\n",
       "        vertical-align: middle;\n",
       "    }\n",
       "\n",
       "    .dataframe tbody tr th {\n",
       "        vertical-align: top;\n",
       "    }\n",
       "\n",
       "    .dataframe thead th {\n",
       "        text-align: right;\n",
       "    }\n",
       "</style>\n",
       "<table border=\"1\" class=\"dataframe\">\n",
       "  <thead>\n",
       "    <tr style=\"text-align: right;\">\n",
       "      <th></th>\n",
       "      <th>Number</th>\n",
       "      <th>Digimon</th>\n",
       "      <th>Stage</th>\n",
       "      <th>Type</th>\n",
       "      <th>Attribute</th>\n",
       "      <th>Memory</th>\n",
       "      <th>Equip Slots</th>\n",
       "      <th>Lv 50 HP</th>\n",
       "      <th>Lv50 SP</th>\n",
       "      <th>Lv50 Atk</th>\n",
       "      <th>Lv50 Def</th>\n",
       "      <th>Lv50 Int</th>\n",
       "      <th>Lv50 Spd</th>\n",
       "    </tr>\n",
       "  </thead>\n",
       "  <tbody>\n",
       "    <tr>\n",
       "      <th>6</th>\n",
       "      <td>7</td>\n",
       "      <td>Tanemon</td>\n",
       "      <td>In-Training</td>\n",
       "      <td>Free</td>\n",
       "      <td>Plant</td>\n",
       "      <td>3</td>\n",
       "      <td>0</td>\n",
       "      <td>1030</td>\n",
       "      <td>64</td>\n",
       "      <td>85</td>\n",
       "      <td>82</td>\n",
       "      <td>73</td>\n",
       "      <td>69</td>\n",
       "    </tr>\n",
       "    <tr>\n",
       "      <th>7</th>\n",
       "      <td>8</td>\n",
       "      <td>Tsunomon</td>\n",
       "      <td>In-Training</td>\n",
       "      <td>Free</td>\n",
       "      <td>Earth</td>\n",
       "      <td>3</td>\n",
       "      <td>0</td>\n",
       "      <td>930</td>\n",
       "      <td>54</td>\n",
       "      <td>107</td>\n",
       "      <td>92</td>\n",
       "      <td>54</td>\n",
       "      <td>76</td>\n",
       "    </tr>\n",
       "    <tr>\n",
       "      <th>8</th>\n",
       "      <td>9</td>\n",
       "      <td>Tsumemon</td>\n",
       "      <td>In-Training</td>\n",
       "      <td>Free</td>\n",
       "      <td>Dark</td>\n",
       "      <td>3</td>\n",
       "      <td>0</td>\n",
       "      <td>930</td>\n",
       "      <td>64</td>\n",
       "      <td>108</td>\n",
       "      <td>64</td>\n",
       "      <td>54</td>\n",
       "      <td>93</td>\n",
       "    </tr>\n",
       "  </tbody>\n",
       "</table>\n",
       "</div>"
      ],
      "text/plain": [
       "   Number   Digimon        Stage  Type Attribute  Memory  Equip Slots  \\\n",
       "6       7   Tanemon  In-Training  Free     Plant       3            0   \n",
       "7       8  Tsunomon  In-Training  Free     Earth       3            0   \n",
       "8       9  Tsumemon  In-Training  Free      Dark       3            0   \n",
       "\n",
       "   Lv 50 HP  Lv50 SP  Lv50 Atk  Lv50 Def  Lv50 Int  Lv50 Spd  \n",
       "6      1030       64        85        82        73        69  \n",
       "7       930       54       107        92        54        76  \n",
       "8       930       64       108        64        54        93  "
      ]
     },
     "execution_count": 180,
     "metadata": {},
     "output_type": "execute_result"
    }
   ],
   "source": [
    "a"
   ]
  },
  {
   "cell_type": "code",
   "execution_count": 181,
   "metadata": {},
   "outputs": [],
   "source": [
    "a1=np.array(a)"
   ]
  },
  {
   "cell_type": "code",
   "execution_count": 192,
   "metadata": {},
   "outputs": [
    {
     "data": {
      "text/plain": [
       "array([64, 54, 64], dtype=object)"
      ]
     },
     "execution_count": 192,
     "metadata": {},
     "output_type": "execute_result"
    }
   ],
   "source": [
    "a1[:,8]"
   ]
  },
  {
   "cell_type": "code",
   "execution_count": 204,
   "metadata": {},
   "outputs": [],
   "source": [
    "class CategoricalTransformer(BaseEstimator, TransformerMixin):\n",
    "    \"\"\"Returns data with categorical features handled following a strategy given as argument.\n",
    "\n",
    "    Arguments and function description\n",
    "\n",
    "    @author : HAMDI Mohamed\n",
    "    \"\"\"\n",
    "\n",
    "    # Class constructor method that takes in a list of values as its argument\n",
    "    def __init__(self, strategy, categorical_cols_names=None):\n",
    "        self._strategy = strategy\n",
    "        self._categorical_vars = categorical_cols_names\n",
    "\n",
    "    # Return self nothing else to do here\n",
    "    def fit(self, X, y=None):\n",
    "        return self\n",
    "\n",
    "    # Transformer method we wrote for this transformer\n",
    "    def transform(self, X, y=None):\n",
    "\n",
    "        X = pd.DataFrame(X).convert_dtypes()\n",
    "        if self._categorical_vars is None:\n",
    "            self._categorical_vars = list(X.select_dtypes(include=['string']).columns)\n",
    "        for col in self._categorical_vars:\n",
    "            categories = list(X[col].drop_duplicates())\n",
    "            if self._strategy == \"one_hot_encoding\":\n",
    "                aux = pd.get_dummies(X[col], prefix=col)\n",
    "                X = pd.concat([X, aux], axis=1)\n",
    "                X = X.drop([col], axis=1)\n",
    "            if self._strategy == \"ordinal_encoding\":\n",
    "                replacement_dic = {categories[i]: i for i in range(len(categories))}\n",
    "                X[col] = X[col].replace(replacement_dic)\n",
    "            if self._strategy == \"target_encoding\":\n",
    "                aux = pd.DataFrame({'col': X[col], 'target': y})\n",
    "                aux = aux.groupby(['col']).mean(numeric_only=False)\n",
    "                replacement_dic = dict(zip(aux.index, aux.target))\n",
    "                X[col] = X[col].replace(replacement_dic)\n",
    "        return X"
   ]
  },
  {
   "cell_type": "code",
   "execution_count": 210,
   "metadata": {},
   "outputs": [],
   "source": [
    "t=CategoricalTransformer(strategy=\"target_encoding\",categorical_cols_names=[1,2,3])"
   ]
  },
  {
   "cell_type": "code",
   "execution_count": 211,
   "metadata": {},
   "outputs": [
    {
     "data": {
      "text/html": [
       "<div>\n",
       "<style scoped>\n",
       "    .dataframe tbody tr th:only-of-type {\n",
       "        vertical-align: middle;\n",
       "    }\n",
       "\n",
       "    .dataframe tbody tr th {\n",
       "        vertical-align: top;\n",
       "    }\n",
       "\n",
       "    .dataframe thead th {\n",
       "        text-align: right;\n",
       "    }\n",
       "</style>\n",
       "<table border=\"1\" class=\"dataframe\">\n",
       "  <thead>\n",
       "    <tr style=\"text-align: right;\">\n",
       "      <th></th>\n",
       "      <th>0</th>\n",
       "      <th>1</th>\n",
       "      <th>2</th>\n",
       "      <th>3</th>\n",
       "      <th>4</th>\n",
       "      <th>5</th>\n",
       "      <th>6</th>\n",
       "      <th>7</th>\n",
       "      <th>8</th>\n",
       "      <th>9</th>\n",
       "      <th>10</th>\n",
       "      <th>11</th>\n",
       "      <th>12</th>\n",
       "    </tr>\n",
       "  </thead>\n",
       "  <tbody>\n",
       "    <tr>\n",
       "      <th>0</th>\n",
       "      <td>7</td>\n",
       "      <td>Tanemon</td>\n",
       "      <td>In-Training</td>\n",
       "      <td>Free</td>\n",
       "      <td>Plant</td>\n",
       "      <td>3</td>\n",
       "      <td>0</td>\n",
       "      <td>1030</td>\n",
       "      <td>64</td>\n",
       "      <td>85</td>\n",
       "      <td>82</td>\n",
       "      <td>73</td>\n",
       "      <td>69</td>\n",
       "    </tr>\n",
       "    <tr>\n",
       "      <th>1</th>\n",
       "      <td>8</td>\n",
       "      <td>Tsunomon</td>\n",
       "      <td>In-Training</td>\n",
       "      <td>Free</td>\n",
       "      <td>Earth</td>\n",
       "      <td>3</td>\n",
       "      <td>0</td>\n",
       "      <td>930</td>\n",
       "      <td>54</td>\n",
       "      <td>107</td>\n",
       "      <td>92</td>\n",
       "      <td>54</td>\n",
       "      <td>76</td>\n",
       "    </tr>\n",
       "    <tr>\n",
       "      <th>2</th>\n",
       "      <td>9</td>\n",
       "      <td>Tsumemon</td>\n",
       "      <td>In-Training</td>\n",
       "      <td>Free</td>\n",
       "      <td>Dark</td>\n",
       "      <td>3</td>\n",
       "      <td>0</td>\n",
       "      <td>930</td>\n",
       "      <td>64</td>\n",
       "      <td>108</td>\n",
       "      <td>64</td>\n",
       "      <td>54</td>\n",
       "      <td>93</td>\n",
       "    </tr>\n",
       "  </tbody>\n",
       "</table>\n",
       "</div>"
      ],
      "text/plain": [
       "  0         1            2     3      4  5  6     7   8    9   10  11  12\n",
       "0  7   Tanemon  In-Training  Free  Plant  3  0  1030  64   85  82  73  69\n",
       "1  8  Tsunomon  In-Training  Free  Earth  3  0   930  54  107  92  54  76\n",
       "2  9  Tsumemon  In-Training  Free   Dark  3  0   930  64  108  64  54  93"
      ]
     },
     "execution_count": 211,
     "metadata": {},
     "output_type": "execute_result"
    }
   ],
   "source": [
    "pd.DataFrame(a1)"
   ]
  },
  {
   "cell_type": "code",
   "execution_count": 212,
   "metadata": {},
   "outputs": [
    {
     "data": {
      "text/html": [
       "<div>\n",
       "<style scoped>\n",
       "    .dataframe tbody tr th:only-of-type {\n",
       "        vertical-align: middle;\n",
       "    }\n",
       "\n",
       "    .dataframe tbody tr th {\n",
       "        vertical-align: top;\n",
       "    }\n",
       "\n",
       "    .dataframe thead th {\n",
       "        text-align: right;\n",
       "    }\n",
       "</style>\n",
       "<table border=\"1\" class=\"dataframe\">\n",
       "  <thead>\n",
       "    <tr style=\"text-align: right;\">\n",
       "      <th></th>\n",
       "      <th>0</th>\n",
       "      <th>1</th>\n",
       "      <th>2</th>\n",
       "      <th>3</th>\n",
       "      <th>4</th>\n",
       "      <th>5</th>\n",
       "      <th>6</th>\n",
       "      <th>7</th>\n",
       "      <th>8</th>\n",
       "      <th>9</th>\n",
       "      <th>10</th>\n",
       "      <th>11</th>\n",
       "      <th>12</th>\n",
       "    </tr>\n",
       "  </thead>\n",
       "  <tbody>\n",
       "    <tr>\n",
       "      <th>0</th>\n",
       "      <td>7</td>\n",
       "      <td>64.0</td>\n",
       "      <td>60.6667</td>\n",
       "      <td>60.6667</td>\n",
       "      <td>Plant</td>\n",
       "      <td>3</td>\n",
       "      <td>0</td>\n",
       "      <td>1030</td>\n",
       "      <td>64</td>\n",
       "      <td>85</td>\n",
       "      <td>82</td>\n",
       "      <td>73</td>\n",
       "      <td>69</td>\n",
       "    </tr>\n",
       "    <tr>\n",
       "      <th>1</th>\n",
       "      <td>8</td>\n",
       "      <td>54.0</td>\n",
       "      <td>60.6667</td>\n",
       "      <td>60.6667</td>\n",
       "      <td>Earth</td>\n",
       "      <td>3</td>\n",
       "      <td>0</td>\n",
       "      <td>930</td>\n",
       "      <td>54</td>\n",
       "      <td>107</td>\n",
       "      <td>92</td>\n",
       "      <td>54</td>\n",
       "      <td>76</td>\n",
       "    </tr>\n",
       "    <tr>\n",
       "      <th>2</th>\n",
       "      <td>9</td>\n",
       "      <td>64.0</td>\n",
       "      <td>60.6667</td>\n",
       "      <td>60.6667</td>\n",
       "      <td>Dark</td>\n",
       "      <td>3</td>\n",
       "      <td>0</td>\n",
       "      <td>930</td>\n",
       "      <td>64</td>\n",
       "      <td>108</td>\n",
       "      <td>64</td>\n",
       "      <td>54</td>\n",
       "      <td>93</td>\n",
       "    </tr>\n",
       "  </tbody>\n",
       "</table>\n",
       "</div>"
      ],
      "text/plain": [
       "   0     1        2        3      4   5   6     7   8    9   10  11  12\n",
       "0   7  64.0  60.6667  60.6667  Plant   3   0  1030  64   85  82  73  69\n",
       "1   8  54.0  60.6667  60.6667  Earth   3   0   930  54  107  92  54  76\n",
       "2   9  64.0  60.6667  60.6667   Dark   3   0   930  64  108  64  54  93"
      ]
     },
     "execution_count": 212,
     "metadata": {},
     "output_type": "execute_result"
    }
   ],
   "source": [
    "t.transform(a1,y=a1[:,8])"
   ]
  },
  {
   "cell_type": "code",
   "execution_count": null,
   "metadata": {},
   "outputs": [],
   "source": []
  }
 ],
 "metadata": {
  "kernelspec": {
   "display_name": "Python 3",
   "language": "python",
   "name": "python3"
  },
  "language_info": {
   "codemirror_mode": {
    "name": "ipython",
    "version": 3
   },
   "file_extension": ".py",
   "mimetype": "text/x-python",
   "name": "python",
   "nbconvert_exporter": "python",
   "pygments_lexer": "ipython3",
   "version": "3.8.3"
  },
  "latex_envs": {
   "LaTeX_envs_menu_present": true,
   "autoclose": false,
   "autocomplete": true,
   "bibliofile": "biblio.bib",
   "cite_by": "apalike",
   "current_citInitial": 1,
   "eqLabelWithNumbers": true,
   "eqNumInitial": 1,
   "hotkeys": {
    "equation": "Ctrl-E",
    "itemize": "Ctrl-I"
   },
   "labels_anchors": false,
   "latex_user_defs": false,
   "report_style_numbering": false,
   "user_envs_cfg": false
  }
 },
 "nbformat": 4,
 "nbformat_minor": 2
}
