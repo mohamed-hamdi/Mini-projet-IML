{
 "cells": [
  {
   "cell_type": "markdown",
   "metadata": {},
   "source": [
    "numerical_cols"
   ]
  },
  {
   "cell_type": "code",
   "execution_count": 1,
   "metadata": {},
   "outputs": [],
   "source": [
    "from pipeline_perso import CustomImputer\n",
    "import numpy as np\n",
    "from sklearn.pipeline import Pipeline\n",
    "import pandas as pd\n",
    "from sklearn.compose import ColumnTransformer\n",
    "from sklearn.model_selection import train_test_split\n"
   ]
  },
  {
   "cell_type": "code",
   "execution_count": 2,
   "metadata": {},
   "outputs": [],
   "source": [
    "X_full=pd.read_csv('kidney_disease.csv')\n",
    "# Remove rows with missing target, separate target from predictors\n",
    "X_full.dropna(axis=0, subset=['classification'], inplace=True)\n",
    "y = X_full.classification\n",
    "X_full.drop(['classification'], axis=1, inplace=True)\n",
    "\n",
    "# Break off validation set from training data\n",
    "X_train_full, X_valid_full, y_train, y_valid = train_test_split(X_full, y, \n",
    "                                                                train_size=0.8, test_size=0.2,\n",
    "                                                                random_state=0)\n",
    "\n",
    "# \"Cardinality\" means the number of unique values in a column\n",
    "# Select categorical columns with relatively low cardinality (convenient but arbitrary)\n",
    "categorical_cols = [cname for cname in X_train_full.columns if\n",
    "                    X_train_full[cname].nunique() < 10 and \n",
    "                    X_train_full[cname].dtype == \"object\"]\n",
    "\n",
    "# Select numerical columns\n",
    "numerical_cols = [cname for cname in X_train_full.columns if \n",
    "                X_train_full[cname].dtype in ['int64', 'float64']]\n",
    "\n",
    "# Keep selected columns only\n",
    "my_cols = categorical_cols + numerical_cols\n",
    "X_train = X_train_full[my_cols].copy()\n",
    "X_valid = X_valid_full[my_cols].copy()\n"
   ]
  },
  {
   "cell_type": "code",
   "execution_count": 10,
   "metadata": {},
   "outputs": [],
   "source": [
    "num_imputer=CustomImputer(missing_values=np.nan, strategy='median')\n",
    "cat_imputer=CustomImputer(missing_values=np.nan, strategy='most_frequent')\n",
    "preprocessor = ColumnTransformer(\n",
    "    transformers=[\n",
    "        ('num', num_imputer, numerical_cols),\n",
    "        ('cat', cat_imputer, categorical_cols)\n",
    "    ])\n"
   ]
  },
  {
   "cell_type": "code",
   "execution_count": 11,
   "metadata": {},
   "outputs": [],
   "source": [
    "\n",
    "from sklearn.metrics import mean_absolute_error\n",
    "\n",
    "# Bundle preprocessing and modeling code in a pipeline\n",
    "my_pipeline = Pipeline(steps=[('preprocessor', preprocessor)\n",
    "                             ])\n",
    "\n"
   ]
  },
  {
   "cell_type": "code",
   "execution_count": 12,
   "metadata": {},
   "outputs": [
    {
     "data": {
      "text/plain": [
       "Pipeline(steps=[('preprocessor',\n",
       "                 ColumnTransformer(transformers=[('num',\n",
       "                                                  CustomImputer(strategy='median'),\n",
       "                                                  ['id', 'age', 'bp', 'sg',\n",
       "                                                   'al', 'su', 'bgr', 'bu',\n",
       "                                                   'sc', 'sod', 'pot',\n",
       "                                                   'hemo']),\n",
       "                                                 ('cat',\n",
       "                                                  CustomImputer(strategy='most_frequent'),\n",
       "                                                  ['rbc', 'pc', 'pcc', 'ba',\n",
       "                                                   'htn', 'dm', 'cad', 'appet',\n",
       "                                                   'pe', 'ane'])]))])"
      ]
     },
     "execution_count": 12,
     "metadata": {},
     "output_type": "execute_result"
    }
   ],
   "source": [
    "my_pipeline.fit(X_train, y_train)"
   ]
  },
  {
   "cell_type": "code",
   "execution_count": 13,
   "metadata": {},
   "outputs": [
    {
     "data": {
      "text/plain": [
       "array([[336. ,  25. ,  60. , ..., 138. ,   4.4,  15.2],\n",
       "       [ 64. ,  55. ,  80. , ..., 138. ,   4.4,   9.8],\n",
       "       [ 55. ,  35. ,  80. , ..., 138. ,   4.4,   9.5],\n",
       "       ...,\n",
       "       [117. ,  54. ,  70. , ..., 139. ,   3.7,  12.5],\n",
       "       [ 47. ,  11. ,  80. , ..., 138. ,   4.4,  15. ],\n",
       "       [172. ,  62. ,  80. , ..., 130. ,   2.5,  10.6]])"
      ]
     },
     "execution_count": 13,
     "metadata": {},
     "output_type": "execute_result"
    }
   ],
   "source": [
    "#example of how we can use the custom imputer on numerical data\n",
    "num_imputer=CustomImputer(missing_values=np.nan, strategy='median')\n",
    "num_imputer.transform(X_train[numerical_cols])"
   ]
  },
  {
   "cell_type": "code",
   "execution_count": 14,
   "metadata": {},
   "outputs": [
    {
     "data": {
      "text/plain": [
       "array([['normal', 'normal', 'notpresent', ..., 'good', 'no', 'no'],\n",
       "       ['normal', 'normal', 'notpresent', ..., 'good', 'no', 'no'],\n",
       "       ['abnormal', 'normal', 'notpresent', ..., 'good', 'yes', 'no'],\n",
       "       ...,\n",
       "       ['normal', 'normal', 'notpresent', ..., 'good', 'no', 'no'],\n",
       "       ['normal', 'normal', 'notpresent', ..., 'good', 'no', 'no'],\n",
       "       ['normal', 'normal', 'notpresent', ..., 'good', 'no', 'no']],\n",
       "      dtype=object)"
      ]
     },
     "execution_count": 14,
     "metadata": {},
     "output_type": "execute_result"
    }
   ],
   "source": [
    "#example of how we can use the custom imputer on numerical data\n",
    "cat_imputer=CustomImputer(missing_values=np.nan, strategy='most_frequent')\n",
    "cat_imputer.transform(X_train[categorical_cols])"
   ]
  },
  {
   "cell_type": "code",
   "execution_count": null,
   "metadata": {},
   "outputs": [],
   "source": []
  }
 ],
 "metadata": {
  "kernelspec": {
   "display_name": "Python 3",
   "language": "python",
   "name": "python3"
  },
  "language_info": {
   "codemirror_mode": {
    "name": "ipython",
    "version": 3
   },
   "file_extension": ".py",
   "mimetype": "text/x-python",
   "name": "python",
   "nbconvert_exporter": "python",
   "pygments_lexer": "ipython3",
   "version": "3.8.3"
  },
  "latex_envs": {
   "LaTeX_envs_menu_present": true,
   "autoclose": false,
   "autocomplete": true,
   "bibliofile": "biblio.bib",
   "cite_by": "apalike",
   "current_citInitial": 1,
   "eqLabelWithNumbers": true,
   "eqNumInitial": 1,
   "hotkeys": {
    "equation": "Ctrl-E",
    "itemize": "Ctrl-I"
   },
   "labels_anchors": false,
   "latex_user_defs": false,
   "report_style_numbering": false,
   "user_envs_cfg": false
  }
 },
 "nbformat": 4,
 "nbformat_minor": 2
}
